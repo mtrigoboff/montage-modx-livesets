{
  "nbformat": 4,
  "nbformat_minor": 0,
  "metadata": {
    "colab": {
      "name": "Montage LiveSets.ipynb",
      "provenance": [],
      "collapsed_sections": [],
      "authorship_tag": "ABX9TyPu396ZLBv17foETHGMMFCO",
      "include_colab_link": true
    },
    "kernelspec": {
      "name": "python3",
      "display_name": "Python 3"
    },
    "language_info": {
      "name": "python"
    }
  },
  "cells": [
    {
      "cell_type": "markdown",
      "metadata": {
        "id": "view-in-github",
        "colab_type": "text"
      },
      "source": [
        "<a href=\"https://colab.research.google.com/github/mtrigoboff/montage_livesets/blob/colab/Montage_LiveSets.ipynb\" target=\"_parent\"><img src=\"https://colab.research.google.com/assets/colab-badge.svg\" alt=\"Open In Colab\"/></a>"
      ]
    },
    {
      "cell_type": "markdown",
      "source": [
        "#Print Montage LiveSets#\n",
        "_by [Michael Trigoboff](mailto:mtrigoboff@comcast.net)_\n",
        "\n",
        "This notebook is for printing Montage **LiveSets** from  Yamaha Montage **User Files (.X7U)**.\n",
        "\n",
        "To do this, click on the black circle with a white arrow that will appear when you hover your mouse over the cell (i.e. rectangle containing code) below this text. Then click on the **Choose Files** button that appears and choose the User File. The User File will be uploaded to this notebook, which can take some time. Once it is uploaded, the LiveSets will be printed below.\n",
        "\n",
        "This notebook will work with User Files created with the latest version of the Montage firmware. The file format changed at some point in the past so it may not work with User Files created with previous versions of the firmware."
      ],
      "metadata": {
        "id": "aNbugw0bxj-R"
      }
    },
    {
      "cell_type": "code",
      "source": [
        "! rm -rf sample_data\n",
        "! rm -rf montage_livesets\n",
        "! git clone --branch colab --single-branch https://github.com/mtrigoboff/montage_livesets\n",
        "! mv montage_livesets/livesets.py .\n",
        "! rm -rf montage_livesets\n",
        "\n",
        "from google.colab import files\n",
        "from livesets import printLiveSets\n",
        "\n",
        "uploads = files.upload()\n",
        "uploadedFileName = list(uploads.keys())[0]\n",
        "print(f'uploaded file: {uploadedFileName}')\n",
        "printLiveSets(uploadedFileName)"
      ],
      "metadata": {
        "id": "_eweU7mr2iAi"
      },
      "execution_count": null,
      "outputs": []
    }
  ]
}